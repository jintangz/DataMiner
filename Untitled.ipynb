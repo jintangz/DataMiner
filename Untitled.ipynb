{
 "cells": [
  {
   "cell_type": "markdown",
   "id": "71562829",
   "metadata": {},
   "source": [
    "# 数据探索"
   ]
  },
  {
   "cell_type": "code",
   "execution_count": 1,
   "id": "36d077fd",
   "metadata": {},
   "outputs": [],
   "source": [
    "import pandas as pd\n",
    "import numpy as np\n",
    "import matplotlib.pyplot as plt\n",
    "\n",
    "import seaborn as sns\n",
    "from scipy.stats import skew\n",
    "from scipy import stats\n",
    "\n",
    "import re"
   ]
  },
  {
   "cell_type": "code",
   "execution_count": 2,
   "id": "5d80cbed",
   "metadata": {},
   "outputs": [],
   "source": [
    "import configparser\n",
    "from tryTorch.CSVDataReader import CSVDataReader\n",
    "from tryTorch.DataCompressor import DataCompressor\n",
    "from tryTorch.OutlierHandler import ThreeSigmaOutlierRecognizer, FourthQuantileGapOutlierRecognizer"
   ]
  },
  {
   "cell_type": "code",
   "execution_count": 3,
   "id": "bc6de4cd",
   "metadata": {},
   "outputs": [],
   "source": [
    "# 解决matplotlib的中文乱码问题\n",
    "plt.rcParams['font.sans-serif']=['SimHei'] #用来正常显示中文标签\n",
    "plt.rcParams['axes.unicode_minus'] = False #用来正常显示负号"
   ]
  },
  {
   "cell_type": "markdown",
   "id": "17265396",
   "metadata": {},
   "source": [
    "# 数据加载"
   ]
  },
  {
   "cell_type": "code",
   "execution_count": 4,
   "id": "042fadb5",
   "metadata": {},
   "outputs": [
    {
     "name": "stdout",
     "output_type": "stream",
     "text": [
      "2022-05-08 23:19:29,518-INFO-loading data from D:\\DataMining\\financial_default\\train.csv...\n",
      "2022-05-08 23:19:31,521-INFO-loading data successfully...\n",
      "2022-05-08 23:19:31,521-INFO-transform float features loaded in a wrong way to int...\n",
      "2022-05-08 23:19:31,521-INFO-transforming features are as follows: employmentTitle,postCode,delinquency_2years,ficoRangeLow,ficoRangeHigh,openAcc,pubRec,pubRecBankruptcies,title,n0,n1,n2,n3,n4,n5,n6,n7,n8,n9,n10,n11,n12,n13,n14\n",
      "2022-05-08 23:19:31,833-INFO-loading data from D:\\DataMining\\financial_default\\testA.csv...\n",
      "2022-05-08 23:19:32,318-INFO-loading data successfully...\n",
      "2022-05-08 23:19:32,334-INFO-transform float features loaded in a wrong way to int...\n",
      "2022-05-08 23:19:32,334-INFO-transforming features are as follows: employmentTitle,postCode,delinquency_2years,ficoRangeLow,ficoRangeHigh,openAcc,pubRec,pubRecBankruptcies,title,n0,n1,n2,n3,n4,n5,n6,n7,n8,n9,n10,n11,n12,n13,n14\n",
      "2022-05-08 23:19:32,428-INFO-start to compress data...\n",
      "2022-05-08 23:19:33,108-INFO--- Mem. usage decreased to 92.32 Mb (64.7% reduction)\n",
      "2022-05-08 23:19:33,108-INFO-start to compress data...\n",
      "2022-05-08 23:19:33,280-INFO--- Mem. usage decreased to 23.27 Mb (62.0% reduction)\n"
     ]
    }
   ],
   "source": [
    "config = configparser.ConfigParser()\n",
    "config.read(r'D:\\CodeProject\\Python\\financial_default\\properties.ini')\n",
    "train_path = config[\"data_path\"][\"train_path\"]\n",
    "test_path = config[\"data_path\"][\"test_path\"]\n",
    "to_transform_features = config[\"to_transform_features\"][\"features\"].split(\",\")\n",
    "\n",
    "data_reader = CSVDataReader(to_transform_features)\n",
    "train_data = data_reader.read(train_path)\n",
    "test_data = data_reader.read(test_path)\n",
    "Y = train_data[config[\"target\"][\"target\"]].copy()\n",
    "\n",
    "dc = DataCompressor()\n",
    "train_data = dc.compress(train_data)\n",
    "test_data = dc.compress(test_data)\n",
    "\n",
    "train_new: pd.DataFrame = train_data.copy()\n",
    "test_new = train_data.copy()\n",
    "\n",
    "train_new.drop(columns=config[\"to_delete_features\"][\"features\"].split(\",\"), inplace=True)\n",
    "test_new = test_new[train_data.columns]"
   ]
  },
  {
   "cell_type": "code",
   "execution_count": 5,
   "id": "d90afe2c",
   "metadata": {},
   "outputs": [
    {
     "data": {
      "text/html": [
       "<div>\n",
       "<style scoped>\n",
       "    .dataframe tbody tr th:only-of-type {\n",
       "        vertical-align: middle;\n",
       "    }\n",
       "\n",
       "    .dataframe tbody tr th {\n",
       "        vertical-align: top;\n",
       "    }\n",
       "\n",
       "    .dataframe thead th {\n",
       "        text-align: right;\n",
       "    }\n",
       "</style>\n",
       "<table border=\"1\" class=\"dataframe\">\n",
       "  <thead>\n",
       "    <tr style=\"text-align: right;\">\n",
       "      <th></th>\n",
       "      <th>id</th>\n",
       "      <th>loanAmnt</th>\n",
       "      <th>term</th>\n",
       "      <th>interestRate</th>\n",
       "      <th>installment</th>\n",
       "      <th>grade</th>\n",
       "      <th>subGrade</th>\n",
       "      <th>employmentTitle</th>\n",
       "      <th>employmentLength</th>\n",
       "      <th>homeOwnership</th>\n",
       "      <th>...</th>\n",
       "      <th>n5</th>\n",
       "      <th>n6</th>\n",
       "      <th>n7</th>\n",
       "      <th>n8</th>\n",
       "      <th>n9</th>\n",
       "      <th>n10</th>\n",
       "      <th>n11</th>\n",
       "      <th>n12</th>\n",
       "      <th>n13</th>\n",
       "      <th>n14</th>\n",
       "    </tr>\n",
       "  </thead>\n",
       "  <tbody>\n",
       "    <tr>\n",
       "      <th>0</th>\n",
       "      <td>0</td>\n",
       "      <td>35008.0</td>\n",
       "      <td>5</td>\n",
       "      <td>19.515625</td>\n",
       "      <td>918.0000</td>\n",
       "      <td>E</td>\n",
       "      <td>E2</td>\n",
       "      <td>320.0</td>\n",
       "      <td>2 years</td>\n",
       "      <td>2</td>\n",
       "      <td>...</td>\n",
       "      <td>9.0</td>\n",
       "      <td>8.0</td>\n",
       "      <td>4.0</td>\n",
       "      <td>12.0</td>\n",
       "      <td>2.0</td>\n",
       "      <td>7.0</td>\n",
       "      <td>0.0</td>\n",
       "      <td>0.0</td>\n",
       "      <td>0.0</td>\n",
       "      <td>2.0</td>\n",
       "    </tr>\n",
       "    <tr>\n",
       "      <th>1</th>\n",
       "      <td>1</td>\n",
       "      <td>18000.0</td>\n",
       "      <td>5</td>\n",
       "      <td>18.484375</td>\n",
       "      <td>462.0000</td>\n",
       "      <td>D</td>\n",
       "      <td>D2</td>\n",
       "      <td>219843.0</td>\n",
       "      <td>5 years</td>\n",
       "      <td>0</td>\n",
       "      <td>...</td>\n",
       "      <td>NaN</td>\n",
       "      <td>NaN</td>\n",
       "      <td>NaN</td>\n",
       "      <td>NaN</td>\n",
       "      <td>NaN</td>\n",
       "      <td>13.0</td>\n",
       "      <td>NaN</td>\n",
       "      <td>NaN</td>\n",
       "      <td>NaN</td>\n",
       "      <td>NaN</td>\n",
       "    </tr>\n",
       "    <tr>\n",
       "      <th>2</th>\n",
       "      <td>2</td>\n",
       "      <td>12000.0</td>\n",
       "      <td>5</td>\n",
       "      <td>16.984375</td>\n",
       "      <td>298.2500</td>\n",
       "      <td>D</td>\n",
       "      <td>D3</td>\n",
       "      <td>31698.0</td>\n",
       "      <td>8 years</td>\n",
       "      <td>0</td>\n",
       "      <td>...</td>\n",
       "      <td>0.0</td>\n",
       "      <td>21.0</td>\n",
       "      <td>4.0</td>\n",
       "      <td>5.0</td>\n",
       "      <td>3.0</td>\n",
       "      <td>11.0</td>\n",
       "      <td>0.0</td>\n",
       "      <td>0.0</td>\n",
       "      <td>0.0</td>\n",
       "      <td>4.0</td>\n",
       "    </tr>\n",
       "    <tr>\n",
       "      <th>3</th>\n",
       "      <td>3</td>\n",
       "      <td>11000.0</td>\n",
       "      <td>3</td>\n",
       "      <td>7.261719</td>\n",
       "      <td>341.0000</td>\n",
       "      <td>A</td>\n",
       "      <td>A4</td>\n",
       "      <td>46854.0</td>\n",
       "      <td>10+ years</td>\n",
       "      <td>1</td>\n",
       "      <td>...</td>\n",
       "      <td>16.0</td>\n",
       "      <td>4.0</td>\n",
       "      <td>7.0</td>\n",
       "      <td>21.0</td>\n",
       "      <td>6.0</td>\n",
       "      <td>9.0</td>\n",
       "      <td>0.0</td>\n",
       "      <td>0.0</td>\n",
       "      <td>0.0</td>\n",
       "      <td>1.0</td>\n",
       "    </tr>\n",
       "    <tr>\n",
       "      <th>4</th>\n",
       "      <td>4</td>\n",
       "      <td>3000.0</td>\n",
       "      <td>3</td>\n",
       "      <td>12.992188</td>\n",
       "      <td>101.0625</td>\n",
       "      <td>C</td>\n",
       "      <td>C2</td>\n",
       "      <td>54.0</td>\n",
       "      <td>NaN</td>\n",
       "      <td>1</td>\n",
       "      <td>...</td>\n",
       "      <td>4.0</td>\n",
       "      <td>9.0</td>\n",
       "      <td>10.0</td>\n",
       "      <td>15.0</td>\n",
       "      <td>7.0</td>\n",
       "      <td>12.0</td>\n",
       "      <td>0.0</td>\n",
       "      <td>0.0</td>\n",
       "      <td>0.0</td>\n",
       "      <td>4.0</td>\n",
       "    </tr>\n",
       "  </tbody>\n",
       "</table>\n",
       "<p>5 rows × 47 columns</p>\n",
       "</div>"
      ],
      "text/plain": [
       "   id  loanAmnt  term  interestRate  installment grade subGrade  \\\n",
       "0   0   35008.0     5     19.515625     918.0000     E       E2   \n",
       "1   1   18000.0     5     18.484375     462.0000     D       D2   \n",
       "2   2   12000.0     5     16.984375     298.2500     D       D3   \n",
       "3   3   11000.0     3      7.261719     341.0000     A       A4   \n",
       "4   4    3000.0     3     12.992188     101.0625     C       C2   \n",
       "\n",
       "   employmentTitle employmentLength  homeOwnership  ...    n5    n6    n7  \\\n",
       "0            320.0          2 years              2  ...   9.0   8.0   4.0   \n",
       "1         219843.0          5 years              0  ...   NaN   NaN   NaN   \n",
       "2          31698.0          8 years              0  ...   0.0  21.0   4.0   \n",
       "3          46854.0        10+ years              1  ...  16.0   4.0   7.0   \n",
       "4             54.0              NaN              1  ...   4.0   9.0  10.0   \n",
       "\n",
       "     n8   n9   n10  n11  n12  n13  n14  \n",
       "0  12.0  2.0   7.0  0.0  0.0  0.0  2.0  \n",
       "1   NaN  NaN  13.0  NaN  NaN  NaN  NaN  \n",
       "2   5.0  3.0  11.0  0.0  0.0  0.0  4.0  \n",
       "3  21.0  6.0   9.0  0.0  0.0  0.0  1.0  \n",
       "4  15.0  7.0  12.0  0.0  0.0  0.0  4.0  \n",
       "\n",
       "[5 rows x 47 columns]"
      ]
     },
     "execution_count": 5,
     "metadata": {},
     "output_type": "execute_result"
    }
   ],
   "source": [
    "train_data.head(5)"
   ]
  },
  {
   "cell_type": "code",
   "execution_count": 6,
   "id": "3d68035f",
   "metadata": {},
   "outputs": [
    {
     "name": "stdout",
     "output_type": "stream",
     "text": [
      "<class 'pandas.core.frame.DataFrame'>\n",
      "RangeIndex: 800000 entries, 0 to 799999\n",
      "Data columns (total 44 columns):\n",
      " #   Column              Non-Null Count   Dtype  \n",
      "---  ------              --------------   -----  \n",
      " 0   loanAmnt            800000 non-null  float16\n",
      " 1   term                800000 non-null  int8   \n",
      " 2   interestRate        800000 non-null  float16\n",
      " 3   installment         800000 non-null  float16\n",
      " 4   grade               800000 non-null  object \n",
      " 5   subGrade            800000 non-null  object \n",
      " 6   employmentTitle     799999 non-null  float32\n",
      " 7   employmentLength    753201 non-null  object \n",
      " 8   homeOwnership       800000 non-null  int8   \n",
      " 9   annualIncome        800000 non-null  float32\n",
      " 10  verificationStatus  800000 non-null  int8   \n",
      " 11  issueDate           800000 non-null  object \n",
      " 12  purpose             800000 non-null  int8   \n",
      " 13  postCode            799999 non-null  float16\n",
      " 14  regionCode          800000 non-null  int8   \n",
      " 15  dti                 799761 non-null  float16\n",
      " 16  delinquency_2years  800000 non-null  int8   \n",
      " 17  ficoRangeLow        800000 non-null  int16  \n",
      " 18  ficoRangeHigh       800000 non-null  int16  \n",
      " 19  openAcc             800000 non-null  int8   \n",
      " 20  pubRec              800000 non-null  int8   \n",
      " 21  pubRecBankruptcies  799595 non-null  float16\n",
      " 22  revolBal            800000 non-null  float32\n",
      " 23  revolUtil           799469 non-null  float16\n",
      " 24  totalAcc            800000 non-null  float16\n",
      " 25  initialListStatus   800000 non-null  int8   \n",
      " 26  applicationType     800000 non-null  int8   \n",
      " 27  earliesCreditLine   800000 non-null  object \n",
      " 28  title               799999 non-null  float16\n",
      " 29  n0                  759730 non-null  float16\n",
      " 30  n1                  759730 non-null  float16\n",
      " 31  n2                  759730 non-null  float16\n",
      " 32  n3                  759730 non-null  float16\n",
      " 33  n4                  766761 non-null  float16\n",
      " 34  n5                  759730 non-null  float16\n",
      " 35  n6                  759730 non-null  float16\n",
      " 36  n7                  759730 non-null  float16\n",
      " 37  n8                  759729 non-null  float16\n",
      " 38  n9                  759730 non-null  float16\n",
      " 39  n10                 766761 non-null  float16\n",
      " 40  n11                 730248 non-null  float16\n",
      " 41  n12                 759730 non-null  float16\n",
      " 42  n13                 759730 non-null  float16\n",
      " 43  n14                 759730 non-null  float16\n",
      "dtypes: float16(24), float32(3), int16(2), int8(10), object(5)\n",
      "memory usage: 87.0+ MB\n"
     ]
    }
   ],
   "source": [
    "train_new.info()"
   ]
  },
  {
   "cell_type": "code",
   "execution_count": 7,
   "id": "aa6b432e",
   "metadata": {},
   "outputs": [
    {
     "data": {
      "text/html": [
       "<div>\n",
       "<style scoped>\n",
       "    .dataframe tbody tr th:only-of-type {\n",
       "        vertical-align: middle;\n",
       "    }\n",
       "\n",
       "    .dataframe tbody tr th {\n",
       "        vertical-align: top;\n",
       "    }\n",
       "\n",
       "    .dataframe thead th {\n",
       "        text-align: right;\n",
       "    }\n",
       "</style>\n",
       "<table border=\"1\" class=\"dataframe\">\n",
       "  <thead>\n",
       "    <tr style=\"text-align: right;\">\n",
       "      <th></th>\n",
       "      <th>loanAmnt</th>\n",
       "      <th>term</th>\n",
       "      <th>interestRate</th>\n",
       "      <th>installment</th>\n",
       "      <th>employmentTitle</th>\n",
       "      <th>homeOwnership</th>\n",
       "      <th>annualIncome</th>\n",
       "      <th>verificationStatus</th>\n",
       "      <th>purpose</th>\n",
       "      <th>postCode</th>\n",
       "      <th>...</th>\n",
       "      <th>n5</th>\n",
       "      <th>n6</th>\n",
       "      <th>n7</th>\n",
       "      <th>n8</th>\n",
       "      <th>n9</th>\n",
       "      <th>n10</th>\n",
       "      <th>n11</th>\n",
       "      <th>n12</th>\n",
       "      <th>n13</th>\n",
       "      <th>n14</th>\n",
       "    </tr>\n",
       "  </thead>\n",
       "  <tbody>\n",
       "    <tr>\n",
       "      <th>count</th>\n",
       "      <td>800000.0</td>\n",
       "      <td>800000.000000</td>\n",
       "      <td>800000.000000</td>\n",
       "      <td>800000.0000</td>\n",
       "      <td>799999.000000</td>\n",
       "      <td>800000.000000</td>\n",
       "      <td>8.000000e+05</td>\n",
       "      <td>800000.000000</td>\n",
       "      <td>800000.000000</td>\n",
       "      <td>799999.0</td>\n",
       "      <td>...</td>\n",
       "      <td>759730.0</td>\n",
       "      <td>759730.0</td>\n",
       "      <td>759730.0</td>\n",
       "      <td>759729.0</td>\n",
       "      <td>759730.0</td>\n",
       "      <td>766761.0</td>\n",
       "      <td>730248.000000</td>\n",
       "      <td>759730.000000</td>\n",
       "      <td>759730.0</td>\n",
       "      <td>759730.0</td>\n",
       "    </tr>\n",
       "    <tr>\n",
       "      <th>mean</th>\n",
       "      <td>NaN</td>\n",
       "      <td>3.482745</td>\n",
       "      <td>NaN</td>\n",
       "      <td>NaN</td>\n",
       "      <td>71943.789062</td>\n",
       "      <td>0.614213</td>\n",
       "      <td>7.616480e+04</td>\n",
       "      <td>1.009683</td>\n",
       "      <td>1.745982</td>\n",
       "      <td>NaN</td>\n",
       "      <td>...</td>\n",
       "      <td>NaN</td>\n",
       "      <td>NaN</td>\n",
       "      <td>NaN</td>\n",
       "      <td>NaN</td>\n",
       "      <td>NaN</td>\n",
       "      <td>NaN</td>\n",
       "      <td>0.000815</td>\n",
       "      <td>0.003380</td>\n",
       "      <td>NaN</td>\n",
       "      <td>NaN</td>\n",
       "    </tr>\n",
       "    <tr>\n",
       "      <th>std</th>\n",
       "      <td>NaN</td>\n",
       "      <td>0.855832</td>\n",
       "      <td>0.000000</td>\n",
       "      <td>NaN</td>\n",
       "      <td>106659.468750</td>\n",
       "      <td>0.675749</td>\n",
       "      <td>6.893233e+04</td>\n",
       "      <td>0.782716</td>\n",
       "      <td>2.367453</td>\n",
       "      <td>NaN</td>\n",
       "      <td>...</td>\n",
       "      <td>0.0</td>\n",
       "      <td>0.0</td>\n",
       "      <td>0.0</td>\n",
       "      <td>0.0</td>\n",
       "      <td>0.0</td>\n",
       "      <td>0.0</td>\n",
       "      <td>0.030075</td>\n",
       "      <td>0.061981</td>\n",
       "      <td>0.0</td>\n",
       "      <td>0.0</td>\n",
       "    </tr>\n",
       "    <tr>\n",
       "      <th>min</th>\n",
       "      <td>500.0</td>\n",
       "      <td>3.000000</td>\n",
       "      <td>5.308594</td>\n",
       "      <td>15.6875</td>\n",
       "      <td>0.000000</td>\n",
       "      <td>0.000000</td>\n",
       "      <td>0.000000e+00</td>\n",
       "      <td>0.000000</td>\n",
       "      <td>0.000000</td>\n",
       "      <td>0.0</td>\n",
       "      <td>...</td>\n",
       "      <td>0.0</td>\n",
       "      <td>0.0</td>\n",
       "      <td>0.0</td>\n",
       "      <td>1.0</td>\n",
       "      <td>0.0</td>\n",
       "      <td>0.0</td>\n",
       "      <td>0.000000</td>\n",
       "      <td>0.000000</td>\n",
       "      <td>0.0</td>\n",
       "      <td>0.0</td>\n",
       "    </tr>\n",
       "    <tr>\n",
       "      <th>25%</th>\n",
       "      <td>8000.0</td>\n",
       "      <td>3.000000</td>\n",
       "      <td>9.750000</td>\n",
       "      <td>248.5000</td>\n",
       "      <td>427.000000</td>\n",
       "      <td>0.000000</td>\n",
       "      <td>4.560000e+04</td>\n",
       "      <td>0.000000</td>\n",
       "      <td>0.000000</td>\n",
       "      <td>103.0</td>\n",
       "      <td>...</td>\n",
       "      <td>5.0</td>\n",
       "      <td>4.0</td>\n",
       "      <td>5.0</td>\n",
       "      <td>9.0</td>\n",
       "      <td>3.0</td>\n",
       "      <td>8.0</td>\n",
       "      <td>0.000000</td>\n",
       "      <td>0.000000</td>\n",
       "      <td>0.0</td>\n",
       "      <td>1.0</td>\n",
       "    </tr>\n",
       "    <tr>\n",
       "      <th>50%</th>\n",
       "      <td>12000.0</td>\n",
       "      <td>3.000000</td>\n",
       "      <td>12.742188</td>\n",
       "      <td>375.2500</td>\n",
       "      <td>7755.000000</td>\n",
       "      <td>1.000000</td>\n",
       "      <td>6.500000e+04</td>\n",
       "      <td>1.000000</td>\n",
       "      <td>0.000000</td>\n",
       "      <td>203.0</td>\n",
       "      <td>...</td>\n",
       "      <td>7.0</td>\n",
       "      <td>7.0</td>\n",
       "      <td>7.0</td>\n",
       "      <td>13.0</td>\n",
       "      <td>5.0</td>\n",
       "      <td>11.0</td>\n",
       "      <td>0.000000</td>\n",
       "      <td>0.000000</td>\n",
       "      <td>0.0</td>\n",
       "      <td>2.0</td>\n",
       "    </tr>\n",
       "    <tr>\n",
       "      <th>75%</th>\n",
       "      <td>20000.0</td>\n",
       "      <td>3.000000</td>\n",
       "      <td>15.992188</td>\n",
       "      <td>580.5000</td>\n",
       "      <td>117663.500000</td>\n",
       "      <td>1.000000</td>\n",
       "      <td>9.000000e+04</td>\n",
       "      <td>2.000000</td>\n",
       "      <td>4.000000</td>\n",
       "      <td>395.0</td>\n",
       "      <td>...</td>\n",
       "      <td>11.0</td>\n",
       "      <td>11.0</td>\n",
       "      <td>10.0</td>\n",
       "      <td>19.0</td>\n",
       "      <td>7.0</td>\n",
       "      <td>14.0</td>\n",
       "      <td>0.000000</td>\n",
       "      <td>0.000000</td>\n",
       "      <td>0.0</td>\n",
       "      <td>3.0</td>\n",
       "    </tr>\n",
       "    <tr>\n",
       "      <th>max</th>\n",
       "      <td>40000.0</td>\n",
       "      <td>5.000000</td>\n",
       "      <td>30.984375</td>\n",
       "      <td>1715.0000</td>\n",
       "      <td>378351.000000</td>\n",
       "      <td>5.000000</td>\n",
       "      <td>1.099920e+07</td>\n",
       "      <td>2.000000</td>\n",
       "      <td>13.000000</td>\n",
       "      <td>940.0</td>\n",
       "      <td>...</td>\n",
       "      <td>70.0</td>\n",
       "      <td>132.0</td>\n",
       "      <td>79.0</td>\n",
       "      <td>128.0</td>\n",
       "      <td>45.0</td>\n",
       "      <td>82.0</td>\n",
       "      <td>4.000000</td>\n",
       "      <td>4.000000</td>\n",
       "      <td>39.0</td>\n",
       "      <td>30.0</td>\n",
       "    </tr>\n",
       "  </tbody>\n",
       "</table>\n",
       "<p>8 rows × 39 columns</p>\n",
       "</div>"
      ],
      "text/plain": [
       "       loanAmnt           term   interestRate  installment  employmentTitle  \\\n",
       "count  800000.0  800000.000000  800000.000000  800000.0000    799999.000000   \n",
       "mean        NaN       3.482745            NaN          NaN     71943.789062   \n",
       "std         NaN       0.855832       0.000000          NaN    106659.468750   \n",
       "min       500.0       3.000000       5.308594      15.6875         0.000000   \n",
       "25%      8000.0       3.000000       9.750000     248.5000       427.000000   \n",
       "50%     12000.0       3.000000      12.742188     375.2500      7755.000000   \n",
       "75%     20000.0       3.000000      15.992188     580.5000    117663.500000   \n",
       "max     40000.0       5.000000      30.984375    1715.0000    378351.000000   \n",
       "\n",
       "       homeOwnership  annualIncome  verificationStatus        purpose  \\\n",
       "count  800000.000000  8.000000e+05       800000.000000  800000.000000   \n",
       "mean        0.614213  7.616480e+04            1.009683       1.745982   \n",
       "std         0.675749  6.893233e+04            0.782716       2.367453   \n",
       "min         0.000000  0.000000e+00            0.000000       0.000000   \n",
       "25%         0.000000  4.560000e+04            0.000000       0.000000   \n",
       "50%         1.000000  6.500000e+04            1.000000       0.000000   \n",
       "75%         1.000000  9.000000e+04            2.000000       4.000000   \n",
       "max         5.000000  1.099920e+07            2.000000      13.000000   \n",
       "\n",
       "       postCode  ...        n5        n6        n7        n8        n9  \\\n",
       "count  799999.0  ...  759730.0  759730.0  759730.0  759729.0  759730.0   \n",
       "mean        NaN  ...       NaN       NaN       NaN       NaN       NaN   \n",
       "std         NaN  ...       0.0       0.0       0.0       0.0       0.0   \n",
       "min         0.0  ...       0.0       0.0       0.0       1.0       0.0   \n",
       "25%       103.0  ...       5.0       4.0       5.0       9.0       3.0   \n",
       "50%       203.0  ...       7.0       7.0       7.0      13.0       5.0   \n",
       "75%       395.0  ...      11.0      11.0      10.0      19.0       7.0   \n",
       "max       940.0  ...      70.0     132.0      79.0     128.0      45.0   \n",
       "\n",
       "            n10            n11            n12       n13       n14  \n",
       "count  766761.0  730248.000000  759730.000000  759730.0  759730.0  \n",
       "mean        NaN       0.000815       0.003380       NaN       NaN  \n",
       "std         0.0       0.030075       0.061981       0.0       0.0  \n",
       "min         0.0       0.000000       0.000000       0.0       0.0  \n",
       "25%         8.0       0.000000       0.000000       0.0       1.0  \n",
       "50%        11.0       0.000000       0.000000       0.0       2.0  \n",
       "75%        14.0       0.000000       0.000000       0.0       3.0  \n",
       "max        82.0       4.000000       4.000000      39.0      30.0  \n",
       "\n",
       "[8 rows x 39 columns]"
      ]
     },
     "execution_count": 7,
     "metadata": {},
     "output_type": "execute_result"
    }
   ],
   "source": [
    "train_new.describe()"
   ]
  },
  {
   "cell_type": "code",
   "execution_count": 8,
   "id": "a260415b",
   "metadata": {
    "scrolled": true
   },
   "outputs": [],
   "source": [
    "category_features = [\n",
    "    'grade', 'subGrade', 'employmentTitle', 'employmentLength',\n",
    "    'homeOwnership','verificationStatus', 'issueDate','purpose',\n",
    "     'postCode', 'regionCode', 'ficoRangeLow',\n",
    "       'ficoRangeHigh', 'initialListStatus', 'applicationType',\n",
    "    'title','earliesCreditLine'\n",
    "]\n",
    "float_features = [\n",
    "    'loanAmnt','interestRate', 'installment',\n",
    "    'annualIncome','dti', 'openAcc','revolBal','revolUtil',\n",
    "    'totalAcc',\n",
    "]\n",
    "int_features = [\n",
    "    'term', 'delinquency_2years','pubRec', 'pubRecBankruptcies',\n",
    "     'n0', 'n1', 'n2', 'n3', 'n4', 'n5', 'n6',\n",
    "       'n7', 'n8', 'n9', 'n10', 'n11', 'n12', 'n13', 'n14'\n",
    "]"
   ]
  },
  {
   "cell_type": "code",
   "execution_count": 9,
   "id": "aabbd3c1",
   "metadata": {},
   "outputs": [
    {
     "data": {
      "text/plain": [
       "[]"
      ]
     },
     "execution_count": 9,
     "metadata": {},
     "output_type": "execute_result"
    }
   ],
   "source": [
    "func = lambda x: x not in train_new.columns\n",
    "list(filter(func, set(category_features+float_features+int_features)))\n",
    "func1 = lambda x: x not in set(category_features+float_features+int_features)\n",
    "list(filter(func1, train_new.columns))"
   ]
  },
  {
   "cell_type": "markdown",
   "id": "5b000176",
   "metadata": {},
   "source": [
    "#  数据空值分布、异常值、是否符合正态分布以及目标变量分布"
   ]
  },
  {
   "cell_type": "code",
   "execution_count": 10,
   "id": "88363baf",
   "metadata": {},
   "outputs": [
    {
     "data": {
      "text/plain": [
       "n11                   0.087190\n",
       "employmentLength      0.058499\n",
       "n8                    0.050339\n",
       "n14                   0.050338\n",
       "n7                    0.050338\n",
       "n0                    0.050338\n",
       "n1                    0.050338\n",
       "n2                    0.050338\n",
       "n3                    0.050338\n",
       "n6                    0.050338\n",
       "n5                    0.050338\n",
       "n9                    0.050338\n",
       "n12                   0.050338\n",
       "n13                   0.050338\n",
       "n4                    0.041549\n",
       "n10                   0.041549\n",
       "revolUtil             0.000664\n",
       "pubRecBankruptcies    0.000506\n",
       "dti                   0.000299\n",
       "postCode              0.000001\n",
       "employmentTitle       0.000001\n",
       "title                 0.000001\n",
       "initialListStatus     0.000000\n",
       "earliesCreditLine     0.000000\n",
       "applicationType       0.000000\n",
       "loanAmnt              0.000000\n",
       "totalAcc              0.000000\n",
       "term                  0.000000\n",
       "interestRate          0.000000\n",
       "installment           0.000000\n",
       "grade                 0.000000\n",
       "subGrade              0.000000\n",
       "homeOwnership         0.000000\n",
       "annualIncome          0.000000\n",
       "verificationStatus    0.000000\n",
       "issueDate             0.000000\n",
       "purpose               0.000000\n",
       "regionCode            0.000000\n",
       "delinquency_2years    0.000000\n",
       "ficoRangeLow          0.000000\n",
       "ficoRangeHigh         0.000000\n",
       "openAcc               0.000000\n",
       "pubRec                0.000000\n",
       "revolBal              0.000000\n",
       "dtype: float64"
      ]
     },
     "execution_count": 10,
     "metadata": {},
     "output_type": "execute_result"
    }
   ],
   "source": [
    "#空值分布\n",
    "null_info = train_new.isnull().sum() / len(train_new)\n",
    "null_info.sort_values(ascending=False)"
   ]
  },
  {
   "cell_type": "code",
   "execution_count": 11,
   "id": "4258e35c",
   "metadata": {},
   "outputs": [
    {
     "data": {
      "image/png": "[encoded data removed]",
      "text/plain": [
       "<Figure size 1008x360 with 1 Axes>"
      ]
     },
     "metadata": {
      "needs_background": "light"
     },
     "output_type": "display_data"
    }
   ],
   "source": [
    "fig, ax = plt.subplots(1,1, figsize=(14, 5))\n",
    "ax.set_title(\"训练集空值分布\")\n",
    "ax.bar(null_info.sort_values(ascending=False).index, null_info.sort_values(ascending=False))\n",
    "# plt.title(\"训练集空值分布\")\n",
    "ax.xaxis.set_label(\"特征\")\n",
    "ax.yaxis.set_label(\"空值率\")\n",
    "ax.xaxis.set_tick_params(rotation=45)"
   ]
  },
  {
   "cell_type": "code",
   "execution_count": 12,
   "id": "2ed55082",
   "metadata": {},
   "outputs": [
    {
     "data": {
      "text/html": [
       "<div>\n",
       "<style scoped>\n",
       "    .dataframe tbody tr th:only-of-type {\n",
       "        vertical-align: middle;\n",
       "    }\n",
       "\n",
       "    .dataframe tbody tr th {\n",
       "        vertical-align: top;\n",
       "    }\n",
       "\n",
       "    .dataframe thead th {\n",
       "        text-align: right;\n",
       "    }\n",
       "</style>\n",
       "<table border=\"1\" class=\"dataframe\">\n",
       "  <thead>\n",
       "    <tr style=\"text-align: right;\">\n",
       "      <th></th>\n",
       "      <th>ratio</th>\n",
       "    </tr>\n",
       "  </thead>\n",
       "  <tbody>\n",
       "    <tr>\n",
       "      <th>正例</th>\n",
       "      <td>0.199513</td>\n",
       "    </tr>\n",
       "    <tr>\n",
       "      <th>反例</th>\n",
       "      <td>0.800488</td>\n",
       "    </tr>\n",
       "  </tbody>\n",
       "</table>\n",
       "</div>"
      ],
      "text/plain": [
       "       ratio\n",
       "正例  0.199513\n",
       "反例  0.800488"
      ]
     },
     "execution_count": 12,
     "metadata": {},
     "output_type": "execute_result"
    }
   ],
   "source": [
    "#数据的平衡状况\n",
    "df = pd.DataFrame({\"ratio\": [(Y==1).sum()/len(Y), (Y==0).sum() / len(Y)]}, index=['正例', '反例'])\n",
    "df"
   ]
  },
  {
   "cell_type": "code",
   "execution_count": 13,
   "id": "a0007eb7",
   "metadata": {},
   "outputs": [
    {
     "name": "stdout",
     "output_type": "stream",
     "text": [
      "2022-05-08 23:19:35,830-INFO-Using categorical units to plot a list of strings that are all parsable as floats or dates. If these strings should be plotted as numbers, cast to the appropriate data type before plotting.\n",
      "2022-05-08 23:19:35,831-INFO-Using categorical units to plot a list of strings that are all parsable as floats or dates. If these strings should be plotted as numbers, cast to the appropriate data type before plotting.\n"
     ]
    },
    {
     "data": {
      "text/plain": [
       "<BarContainer object of 2 artists>"
      ]
     },
     "execution_count": 13,
     "metadata": {},
     "output_type": "execute_result"
    },
    {
     "data": {
      "image/png": "[encoded data removed]",
      "text/plain": [
       "<Figure size 432x288 with 1 Axes>"
      ]
     },
     "metadata": {
      "needs_background": "light"
     },
     "output_type": "display_data"
    }
   ],
   "source": [
    "values = set(Y)\n",
    "\n",
    "test = pd.DataFrame({value: [(value==Y).sum() / len(Y)] for value in values})\n",
    "plt.bar(list(map(str,test.columns)), test.loc[0,:].values)"
   ]
  },
  {
   "cell_type": "code",
   "execution_count": 14,
   "id": "01e25930",
   "metadata": {},
   "outputs": [
    {
     "data": {
      "image/png": "[encoded data removed]",
      "text/plain": [
       "<Figure size 576x432 with 1 Axes>"
      ]
     },
     "metadata": {
      "needs_background": "light"
     },
     "output_type": "display_data"
    }
   ],
   "source": [
    "fig, ax = plt.subplots(1,1, figsize=(8, 6))\n",
    "ax.set_title(\"目标变量分布\")\n",
    "ax.bar(df.index, df.ratio.values)\n",
    "ax.xaxis.set_label(\"类别\")\n",
    "ax.yaxis.set_label(\"占比\")"
   ]
  },
  {
   "cell_type": "code",
   "execution_count": 15,
   "id": "8b43c22d",
   "metadata": {},
   "outputs": [
    {
     "data": {
      "text/plain": [
       "annualIncome    0.048767\n",
       "interestRate    0.018504\n",
       "loanAmnt        0.005306\n",
       "openAcc         0.034299\n",
       "revolBal        0.059194\n",
       "installment     0.031320\n",
       "dti             0.004372\n",
       "totalAcc        0.016807\n",
       "revolUtil       0.000723\n",
       "dtype: float64"
      ]
     },
     "execution_count": 15,
     "metadata": {},
     "output_type": "execute_result"
    }
   ],
   "source": [
    "#异常值分布\n",
    "#数值类特征\n",
    "#四分位距离\n",
    "fq1 = FourthQuantileGapOutlierRecognizer(float_features)\n",
    "fq1.fit_transform(x_train=train_new)\n",
    "fq1.transform(x=train_new)\n",
    "df = pd.Series(fq1.outlier_stat)\n",
    "df"
   ]
  },
  {
   "cell_type": "code",
   "execution_count": 16,
   "id": "ce1ca29e",
   "metadata": {},
   "outputs": [
    {
     "data": {
      "text/plain": [
       "annualIncome    0.007534\n",
       "interestRate    0.007176\n",
       "loanAmnt        0.000000\n",
       "openAcc         0.011389\n",
       "revolBal        0.012499\n",
       "installment     0.009942\n",
       "dti             0.002243\n",
       "totalAcc        0.009152\n",
       "revolUtil       0.000729\n",
       "dtype: float64"
      ]
     },
     "execution_count": 16,
     "metadata": {},
     "output_type": "execute_result"
    }
   ],
   "source": [
    "#3-sigma准则\n",
    "ts1 = ThreeSigmaOutlierRecognizer(float_features)\n",
    "ts1.fit_transform(train_new)\n",
    "df2 = pd.Series(ts1.outlier_stat)\n",
    "df2"
   ]
  },
  {
   "cell_type": "code",
   "execution_count": 17,
   "id": "e28e1abb",
   "metadata": {},
   "outputs": [
    {
     "data": {
      "text/plain": [
       "annualIncome    0.007534\n",
       "interestRate    0.007176\n",
       "loanAmnt        0.000000\n",
       "openAcc         0.011389\n",
       "revolBal        0.012499\n",
       "installment     0.009942\n",
       "dti             0.002243\n",
       "totalAcc        0.009152\n",
       "revolUtil       0.000729\n",
       "dtype: float64"
      ]
     },
     "execution_count": 17,
     "metadata": {},
     "output_type": "execute_result"
    }
   ],
   "source": [
    "ts1 = ThreeSigmaOutlierRecognizer(float_features)\n",
    "ts1.fit_transform(train_new)\n",
    "df2 = pd.Series(ts1.outlier_stat)\n",
    "df2"
   ]
  },
  {
   "cell_type": "code",
   "execution_count": 18,
   "id": "6d37cf6c",
   "metadata": {},
   "outputs": [
    {
     "data": {
      "image/png": "[encoded data removed]",
      "text/plain": [
       "<Figure size 1152x432 with 2 Axes>"
      ]
     },
     "metadata": {
      "needs_background": "light"
     },
     "output_type": "display_data"
    }
   ],
   "source": [
    "fig, axes = plt.subplots(1, 2, figsize=(16, 6))\n",
    "axes[0].bar(df.sort_values(ascending=False).index, df.sort_values(ascending=False))\n",
    "axes[0].set_title(\"异常值比例(四分位距)\")\n",
    "axes[0].xaxis.set_label(\"特征\")\n",
    "axes[0].xaxis.set_tick_params(rotation=45)\n",
    "axes[0].yaxis.set_label(\"比率\")\n",
    "\n",
    "axes[1].bar(df2.sort_values(ascending=False).index, df2.sort_values(ascending=False))\n",
    "axes[1].set_title(\"异常值比例(3-sigma)\")\n",
    "axes[1].xaxis.set_label(\"特征\")\n",
    "axes[1].xaxis.set_tick_params(rotation=45)\n",
    "axes[1].yaxis.set_label(\"比率\")"
   ]
  },
  {
   "cell_type": "code",
   "execution_count": 19,
   "id": "8dca539d",
   "metadata": {},
   "outputs": [],
   "source": [
    "num_features = int_features + float_features\n"
   ]
  },
  {
   "cell_type": "code",
   "execution_count": 20,
   "id": "f25b957f",
   "metadata": {},
   "outputs": [],
   "source": [
    "def get_distribute_of_feature(features, data):\n",
    "    skews = {feature:0 for feature in features}\n",
    "    fig,axes = plt.subplots(7, 4, figsize = (16, 21))\n",
    "    for i, feature in enumerate(features):\n",
    "        row = i//4\n",
    "        col = i%4\n",
    "        ax = axes[row, col]\n",
    "        sns.kdeplot(data[feature].astype(np.float64), ax=ax)\n",
    "#         ax.set_title(f\"The distribution of {feature}\")\n",
    "        skews[feature] = skew(data[feature].astype(np.float64), nan_policy='omit')\n",
    "    return skews"
   ]
  },
  {
   "cell_type": "code",
   "execution_count": 21,
   "id": "4bdb1411",
   "metadata": {},
   "outputs": [],
   "source": [
    "# skews = get_distribute_of_feature(features=num_features, data=train_new)"
   ]
  },
  {
   "cell_type": "code",
   "execution_count": 22,
   "id": "e15e7483",
   "metadata": {},
   "outputs": [],
   "source": [
    "# {feature: value if isinstance(value, float) else value.data.min() for feature, value in skews.items()}"
   ]
  },
  {
   "cell_type": "code",
   "execution_count": 23,
   "id": "453b71d6",
   "metadata": {},
   "outputs": [
    {
     "data": {
      "text/plain": [
       "Index(['grade', 'subGrade', 'employmentLength', 'issueDate',\n",
       "       'earliesCreditLine'],\n",
       "      dtype='object')"
      ]
     },
     "execution_count": 23,
     "metadata": {},
     "output_type": "execute_result"
    }
   ],
   "source": [
    "train_new.select_dtypes(['object']).columns"
   ]
  },
  {
   "cell_type": "code",
   "execution_count": 24,
   "id": "0393f9a4",
   "metadata": {},
   "outputs": [
    {
     "data": {
      "text/html": [
       "<div>\n",
       "<style scoped>\n",
       "    .dataframe tbody tr th:only-of-type {\n",
       "        vertical-align: middle;\n",
       "    }\n",
       "\n",
       "    .dataframe tbody tr th {\n",
       "        vertical-align: top;\n",
       "    }\n",
       "\n",
       "    .dataframe thead th {\n",
       "        text-align: right;\n",
       "    }\n",
       "</style>\n",
       "<table border=\"1\" class=\"dataframe\">\n",
       "  <thead>\n",
       "    <tr style=\"text-align: right;\">\n",
       "      <th></th>\n",
       "      <th>grade</th>\n",
       "      <th>subGrade</th>\n",
       "      <th>employmentLength</th>\n",
       "      <th>issueDate</th>\n",
       "      <th>earliesCreditLine</th>\n",
       "    </tr>\n",
       "    <tr>\n",
       "      <th>isDefault</th>\n",
       "      <th></th>\n",
       "      <th></th>\n",
       "      <th></th>\n",
       "      <th></th>\n",
       "      <th></th>\n",
       "    </tr>\n",
       "  </thead>\n",
       "  <tbody>\n",
       "    <tr>\n",
       "      <th>0</th>\n",
       "      <td>640390</td>\n",
       "      <td>640390</td>\n",
       "      <td>606170</td>\n",
       "      <td>640390</td>\n",
       "      <td>640390</td>\n",
       "    </tr>\n",
       "    <tr>\n",
       "      <th>1</th>\n",
       "      <td>159610</td>\n",
       "      <td>159610</td>\n",
       "      <td>147031</td>\n",
       "      <td>159610</td>\n",
       "      <td>159610</td>\n",
       "    </tr>\n",
       "  </tbody>\n",
       "</table>\n",
       "</div>"
      ],
      "text/plain": [
       "            grade  subGrade  employmentLength  issueDate  earliesCreditLine\n",
       "isDefault                                                                  \n",
       "0          640390    640390            606170     640390             640390\n",
       "1          159610    159610            147031     159610             159610"
      ]
     },
     "execution_count": 24,
     "metadata": {},
     "output_type": "execute_result"
    }
   ],
   "source": [
    "#类别型特征的计数\n",
    "train_new[train_new.select_dtypes(['object']).columns].groupby(by=Y).agg('count')"
   ]
  },
  {
   "cell_type": "code",
   "execution_count": 25,
   "id": "02f57bfd",
   "metadata": {},
   "outputs": [],
   "source": [
    "def get_category_feature_target_distribute(rows, cols,features, data, target, topn=10):\n",
    "    df = data[features].copy()\n",
    "    target_name = None\n",
    "    fig = plt.figure(figsize=(rows * 8, cols *3))\n",
    "    if isinstance(target, str):\n",
    "        y = df[target]\n",
    "        target_name = target\n",
    "    elif isinstance(target, pd.core.series.Series) or isinstance(target, np.ndarray):\n",
    "        df['y'] = target\n",
    "        target_name = 'y'\n",
    "    else:\n",
    "        print(\"===========please check your target variable================\")\n",
    "        return\n",
    "    m_rows = len(features) // cols\n",
    "    for i in range(m_rows * cols):\n",
    "        row = i // cols\n",
    "        col = i % cols\n",
    "        df[target_name] = df[target_name].astype(np.float64)\n",
    "        tmp = df.groupby(features[i])[target_name].apply(np.nanmean).sort_values(ascending=False).head(topn)\n",
    "        ax = plt.subplot2grid((rows, cols),(row, col), colspan=1, rowspan = 1, fig=fig)\n",
    "        ax.bar(tmp.index, tmp.values)\n",
    "        ax.xaxis.set_tick_params(rotation=45)\n",
    "        ax.xaxis.set_label(features[i])\n",
    "    over_num = len(features) - cols * m_rows\n",
    "    if over_num == 0:\n",
    "        return\n",
    "    else:\n",
    "        for i in range(cols * m_rows, len(features)):\n",
    "            row = i // cols\n",
    "            col = i % cols\n",
    "            colspan = 1 if i != len(features)-1 else cols - col\n",
    "            df[target_name] = df[target_name].astype(np.float64)\n",
    "            tmp = df.groupby(features[i])[target_name].apply(np.nanmean).sort_values(ascending=False).head(topn)\n",
    "            ax = plt.subplot2grid((rows, cols),(row, col), colspan=colspan, rowspan = 1, fig=fig)\n",
    "            ax.bar(tmp.index, tmp.values)\n",
    "            ax.xaxis.set_tick_params(rotation=45)\n",
    "            ax.xaxis.set_label(features[i])\n",
    "    fig.show()"
   ]
  },
  {
   "cell_type": "code",
   "execution_count": 26,
   "id": "ef767b55",
   "metadata": {},
   "outputs": [
    {
     "name": "stdout",
     "output_type": "stream",
     "text": [
      "2022-05-08 23:19:42,380-INFO-Using categorical units to plot a list of strings that are all parsable as floats or dates. If these strings should be plotted as numbers, cast to the appropriate data type before plotting.\n",
      "2022-05-08 23:19:42,380-INFO-Using categorical units to plot a list of strings that are all parsable as floats or dates. If these strings should be plotted as numbers, cast to the appropriate data type before plotting.\n",
      "2022-05-08 23:19:42,483-INFO-Using categorical units to plot a list of strings that are all parsable as floats or dates. If these strings should be plotted as numbers, cast to the appropriate data type before plotting.\n",
      "2022-05-08 23:19:42,483-INFO-Using categorical units to plot a list of strings that are all parsable as floats or dates. If these strings should be plotted as numbers, cast to the appropriate data type before plotting.\n"
     ]
    },
    {
     "name": "stderr",
     "output_type": "stream",
     "text": [
      "C:\\Users\\jinta\\AppData\\Local\\Temp/ipykernel_36856/1429805566.py:38: UserWarning: Matplotlib is currently using module://matplotlib_inline.backend_inline, which is a non-GUI backend, so cannot show the figure.\n",
      "  fig.show()\n"
     ]
    },
    {
     "data": {
      "image/png": "[encoded data removed]",
      "text/plain": [
       "<Figure size 1152x648 with 5 Axes>"
      ]
     },
     "metadata": {
      "needs_background": "light"
     },
     "output_type": "display_data"
    }
   ],
   "source": [
    "get_category_feature_target_distribute(2, 3, train_new.select_dtypes(['object']).columns,train_new, Y)"
   ]
  },
  {
   "cell_type": "code",
   "execution_count": 27,
   "id": "a830959e",
   "metadata": {},
   "outputs": [],
   "source": [
    "def one_factor_va(feature:str, data:pd.DataFrame, target, alpha:float=0.05)->tuple:\n",
    "    \"\"\"\n",
    "    返回单因素方差分析的P值，以及是否拒绝原假设，接受类别变量和目标变量相关的备择假设\n",
    "    :param feature: 类别特征\n",
    "    :param data: 数据\n",
    "    :param target: 目标变量\n",
    "    :param alpha: 显著性水平\n",
    "    :return: （p-value, True or False）\n",
    "    \"\"\"\n",
    "    df = data.copy()\n",
    "    if isinstance(target, str):\n",
    "        target_name = target\n",
    "    elif isinstance(target, pd.core.series.Series)or isinstance(target, np.ndarray):\n",
    "        target_name = 'y'\n",
    "        df['y'] = target\n",
    "    else:\n",
    "        print(\"===========please check your target variable================\")\n",
    "        return\n",
    "    tmp = df.groupby(by=feature).agg({target_name:('var', 'count')})\n",
    "    tmp.columns = list(map(lambda x: x[1], tmp.columns))\n",
    "    SSE = tmp.assign(sse=lambda x: x['var'] * x['count'])\\\n",
    "            .sse.astype(np.float64).sum()\n",
    "    SST = df[target_name].astype(np.float64).var()*len(df)\n",
    "    SSA = SST - SSE\n",
    "    k = len(df[feature].drop_duplicates())\n",
    "    MSE = SSE / (len(df) - k)\n",
    "    MSA = SSA / (k - 1)\n",
    "    p_value = stats.f.sf(MSA/MSE, k-1, len(df) - k)\n",
    "    return p_value, p_value < alpha"
   ]
  },
  {
   "cell_type": "code",
   "execution_count": 28,
   "id": "3351f3b2",
   "metadata": {},
   "outputs": [],
   "source": [
    "#计算连续型特征在不同的目标变量下的kde\n",
    "def get_kde_by_target(features: list, data:pd.DataFrame, target, cols, rows):\n",
    "    df = data.copy()\n",
    "    if isinstance(target, str):\n",
    "        target_name = target\n",
    "    elif isinstance(target, pd.core.series.Series)or isinstance(target, np.ndarray):\n",
    "        target_name = 'y'\n",
    "        df['y'] = target\n",
    "    else:\n",
    "        print(\"===========please check your target variable================\")\n",
    "        return\n",
    "    target_values = set(df[target_name])\n",
    "    fig = plt.figure(figsize=(rows * 8, cols * 3))\n",
    "    for i, feature in enumerate(features):\n",
    "        row, col = i // rows, i % cols\n",
    "        if i < len(features) - 1:\n",
    "            ax = plt.subplot2grid((rows, cols), (row, col))\n",
    "        else:\n",
    "            ax = plt.subplot2grid((rows, cols), (row, col), colspan=rows * cols - i)\n",
    "        sns.kdeplot(df[feature], hue=df[target_name],ax=ax)\n",
    "    fig.suptitle(\"分预测值不同特征核密度分布\")\n",
    "    fig.subplots_adjust(hspace=0.2, wspace=0.)\n",
    "    fig.show()"
   ]
  },
  {
   "cell_type": "code",
   "execution_count": null,
   "id": "c2ce69e6",
   "metadata": {},
   "outputs": [],
   "source": []
  },
  {
   "cell_type": "code",
   "execution_count": 29,
   "id": "1404752f",
   "metadata": {},
   "outputs": [
    {
     "name": "stderr",
     "output_type": "stream",
     "text": [
      "C:\\Users\\jinta\\AppData\\Local\\Temp/ipykernel_36856/1849109152.py:23: UserWarning: Matplotlib is currently using module://matplotlib_inline.backend_inline, which is a non-GUI backend, so cannot show the figure.\n",
      "  fig.show()\n"
     ]
    },
    {
     "data": {
      "image/png": "[encoded data removed]",
      "text/plain": [
       "<Figure size 1728x648 with 9 Axes>"
      ]
     },
     "metadata": {
      "needs_background": "light"
     },
     "output_type": "display_data"
    }
   ],
   "source": [
    "get_kde_by_target(float_features, train_new, Y, 3,3)"
   ]
  },
  {
   "cell_type": "code",
   "execution_count": 30,
   "id": "a4b186c0",
   "metadata": {},
   "outputs": [
    {
     "data": {
      "text/plain": [
       "['loanAmnt',\n",
       " 'interestRate',\n",
       " 'installment',\n",
       " 'annualIncome',\n",
       " 'dti',\n",
       " 'openAcc',\n",
       " 'revolBal',\n",
       " 'revolUtil',\n",
       " 'totalAcc']"
      ]
     },
     "execution_count": 30,
     "metadata": {},
     "output_type": "execute_result"
    }
   ],
   "source": [
    "float_features"
   ]
  },
  {
   "cell_type": "markdown",
   "id": "da8d71d0",
   "metadata": {},
   "source": [
    "# 特征工程"
   ]
  },
  {
   "cell_type": "code",
   "execution_count": 31,
   "id": "c9deec7a",
   "metadata": {},
   "outputs": [
    {
     "data": {
      "text/plain": [
       "['grade',\n",
       " 'subGrade',\n",
       " 'employmentTitle',\n",
       " 'employmentLength',\n",
       " 'homeOwnership',\n",
       " 'verificationStatus',\n",
       " 'issueDate',\n",
       " 'purpose',\n",
       " 'postCode',\n",
       " 'regionCode',\n",
       " 'ficoRangeLow',\n",
       " 'ficoRangeHigh',\n",
       " 'initialListStatus',\n",
       " 'applicationType',\n",
       " 'title',\n",
       " 'earliesCreditLine']"
      ]
     },
     "execution_count": 31,
     "metadata": {},
     "output_type": "execute_result"
    }
   ],
   "source": [
    "#填充缺失值\n",
    "from tryTorch.NanHandler import NanHandler\n",
    "\n",
    "nh = NanHandler(category_features, method=3)\n",
    "train_new = nh.fit_transform(train_new)\n",
    "#类别型特征处理\n",
    "category_features"
   ]
  },
  {
   "cell_type": "code",
   "execution_count": 32,
   "id": "97d48436",
   "metadata": {},
   "outputs": [],
   "source": [
    "def clean_employment_length(x):\n",
    "    if x is None:\n",
    "        return None\n",
    "    elif x == '< 1 year':\n",
    "        return 0\n",
    "    elif x == '10+ years':\n",
    "        return 10\n",
    "    else:\n",
    "        return x[0]\n",
    "    "
   ]
  },
  {
   "cell_type": "code",
   "execution_count": 33,
   "id": "30660906",
   "metadata": {},
   "outputs": [
    {
     "ename": "AttributeError",
     "evalue": "'DataFrame' object has no attribute 'sugGrade'",
     "output_type": "error",
     "traceback": [
      "\u001b[1;31m---------------------------------------------------------------------------\u001b[0m",
      "\u001b[1;31mAttributeError\u001b[0m                            Traceback (most recent call last)",
      "\u001b[1;32m~\\AppData\\Local\\Temp/ipykernel_36856/1120039814.py\u001b[0m in \u001b[0;36m<module>\u001b[1;34m\u001b[0m\n\u001b[1;32m----> 1\u001b[1;33m \u001b[0mtrain_new\u001b[0m\u001b[1;33m.\u001b[0m\u001b[0massign\u001b[0m\u001b[1;33m(\u001b[0m\u001b[0msublevel\u001b[0m\u001b[1;33m=\u001b[0m\u001b[1;32mlambda\u001b[0m \u001b[0mx\u001b[0m\u001b[1;33m:\u001b[0m \u001b[0mx\u001b[0m\u001b[1;33m.\u001b[0m\u001b[0msugGrade\u001b[0m\u001b[1;33m[\u001b[0m\u001b[1;33m-\u001b[0m\u001b[1;36m1\u001b[0m\u001b[1;33m]\u001b[0m\u001b[1;33m)\u001b[0m\u001b[0;31m\\\u001b[0m\u001b[1;33m\u001b[0m\u001b[1;33m\u001b[0m\u001b[0m\n\u001b[0m\u001b[0;32m      2\u001b[0m     \u001b[1;33m.\u001b[0m\u001b[0massign\u001b[0m\u001b[1;33m(\u001b[0m\u001b[1;33m)\u001b[0m\u001b[1;33m\u001b[0m\u001b[1;33m\u001b[0m\u001b[0m\n",
      "\u001b[1;32mD:\\Anaconda\\lib\\site-packages\\pandas\\core\\frame.py\u001b[0m in \u001b[0;36massign\u001b[1;34m(self, **kwargs)\u001b[0m\n\u001b[0;32m   4484\u001b[0m \u001b[1;33m\u001b[0m\u001b[0m\n\u001b[0;32m   4485\u001b[0m         \u001b[1;32mfor\u001b[0m \u001b[0mk\u001b[0m\u001b[1;33m,\u001b[0m \u001b[0mv\u001b[0m \u001b[1;32min\u001b[0m \u001b[0mkwargs\u001b[0m\u001b[1;33m.\u001b[0m\u001b[0mitems\u001b[0m\u001b[1;33m(\u001b[0m\u001b[1;33m)\u001b[0m\u001b[1;33m:\u001b[0m\u001b[1;33m\u001b[0m\u001b[1;33m\u001b[0m\u001b[0m\n\u001b[1;32m-> 4486\u001b[1;33m             \u001b[0mdata\u001b[0m\u001b[1;33m[\u001b[0m\u001b[0mk\u001b[0m\u001b[1;33m]\u001b[0m \u001b[1;33m=\u001b[0m \u001b[0mcom\u001b[0m\u001b[1;33m.\u001b[0m\u001b[0mapply_if_callable\u001b[0m\u001b[1;33m(\u001b[0m\u001b[0mv\u001b[0m\u001b[1;33m,\u001b[0m \u001b[0mdata\u001b[0m\u001b[1;33m)\u001b[0m\u001b[1;33m\u001b[0m\u001b[1;33m\u001b[0m\u001b[0m\n\u001b[0m\u001b[0;32m   4487\u001b[0m         \u001b[1;32mreturn\u001b[0m \u001b[0mdata\u001b[0m\u001b[1;33m\u001b[0m\u001b[1;33m\u001b[0m\u001b[0m\n\u001b[0;32m   4488\u001b[0m \u001b[1;33m\u001b[0m\u001b[0m\n",
      "\u001b[1;32mD:\\Anaconda\\lib\\site-packages\\pandas\\core\\common.py\u001b[0m in \u001b[0;36mapply_if_callable\u001b[1;34m(maybe_callable, obj, **kwargs)\u001b[0m\n\u001b[0;32m    356\u001b[0m     \"\"\"\n\u001b[0;32m    357\u001b[0m     \u001b[1;32mif\u001b[0m \u001b[0mcallable\u001b[0m\u001b[1;33m(\u001b[0m\u001b[0mmaybe_callable\u001b[0m\u001b[1;33m)\u001b[0m\u001b[1;33m:\u001b[0m\u001b[1;33m\u001b[0m\u001b[1;33m\u001b[0m\u001b[0m\n\u001b[1;32m--> 358\u001b[1;33m         \u001b[1;32mreturn\u001b[0m \u001b[0mmaybe_callable\u001b[0m\u001b[1;33m(\u001b[0m\u001b[0mobj\u001b[0m\u001b[1;33m,\u001b[0m \u001b[1;33m**\u001b[0m\u001b[0mkwargs\u001b[0m\u001b[1;33m)\u001b[0m\u001b[1;33m\u001b[0m\u001b[1;33m\u001b[0m\u001b[0m\n\u001b[0m\u001b[0;32m    359\u001b[0m \u001b[1;33m\u001b[0m\u001b[0m\n\u001b[0;32m    360\u001b[0m     \u001b[1;32mreturn\u001b[0m \u001b[0mmaybe_callable\u001b[0m\u001b[1;33m\u001b[0m\u001b[1;33m\u001b[0m\u001b[0m\n",
      "\u001b[1;32m~\\AppData\\Local\\Temp/ipykernel_36856/1120039814.py\u001b[0m in \u001b[0;36m<lambda>\u001b[1;34m(x)\u001b[0m\n\u001b[1;32m----> 1\u001b[1;33m \u001b[0mtrain_new\u001b[0m\u001b[1;33m.\u001b[0m\u001b[0massign\u001b[0m\u001b[1;33m(\u001b[0m\u001b[0msublevel\u001b[0m\u001b[1;33m=\u001b[0m\u001b[1;32mlambda\u001b[0m \u001b[0mx\u001b[0m\u001b[1;33m:\u001b[0m \u001b[0mx\u001b[0m\u001b[1;33m.\u001b[0m\u001b[0msugGrade\u001b[0m\u001b[1;33m[\u001b[0m\u001b[1;33m-\u001b[0m\u001b[1;36m1\u001b[0m\u001b[1;33m]\u001b[0m\u001b[1;33m)\u001b[0m\u001b[0;31m\\\u001b[0m\u001b[1;33m\u001b[0m\u001b[1;33m\u001b[0m\u001b[0m\n\u001b[0m\u001b[0;32m      2\u001b[0m     \u001b[1;33m.\u001b[0m\u001b[0massign\u001b[0m\u001b[1;33m(\u001b[0m\u001b[1;33m)\u001b[0m\u001b[1;33m\u001b[0m\u001b[1;33m\u001b[0m\u001b[0m\n",
      "\u001b[1;32mD:\\Anaconda\\lib\\site-packages\\pandas\\core\\generic.py\u001b[0m in \u001b[0;36m__getattr__\u001b[1;34m(self, name)\u001b[0m\n\u001b[0;32m   5485\u001b[0m         ):\n\u001b[0;32m   5486\u001b[0m             \u001b[1;32mreturn\u001b[0m \u001b[0mself\u001b[0m\u001b[1;33m[\u001b[0m\u001b[0mname\u001b[0m\u001b[1;33m]\u001b[0m\u001b[1;33m\u001b[0m\u001b[1;33m\u001b[0m\u001b[0m\n\u001b[1;32m-> 5487\u001b[1;33m         \u001b[1;32mreturn\u001b[0m \u001b[0mobject\u001b[0m\u001b[1;33m.\u001b[0m\u001b[0m__getattribute__\u001b[0m\u001b[1;33m(\u001b[0m\u001b[0mself\u001b[0m\u001b[1;33m,\u001b[0m \u001b[0mname\u001b[0m\u001b[1;33m)\u001b[0m\u001b[1;33m\u001b[0m\u001b[1;33m\u001b[0m\u001b[0m\n\u001b[0m\u001b[0;32m   5488\u001b[0m \u001b[1;33m\u001b[0m\u001b[0m\n\u001b[0;32m   5489\u001b[0m     \u001b[1;32mdef\u001b[0m \u001b[0m__setattr__\u001b[0m\u001b[1;33m(\u001b[0m\u001b[0mself\u001b[0m\u001b[1;33m,\u001b[0m \u001b[0mname\u001b[0m\u001b[1;33m:\u001b[0m \u001b[0mstr\u001b[0m\u001b[1;33m,\u001b[0m \u001b[0mvalue\u001b[0m\u001b[1;33m)\u001b[0m \u001b[1;33m->\u001b[0m \u001b[1;32mNone\u001b[0m\u001b[1;33m:\u001b[0m\u001b[1;33m\u001b[0m\u001b[1;33m\u001b[0m\u001b[0m\n",
      "\u001b[1;31mAttributeError\u001b[0m: 'DataFrame' object has no attribute 'sugGrade'"
     ]
    }
   ],
   "source": [
    "train_new.assign(sublevel=lambda x: x.sugGrade[-1])\\\n",
    "    .assign()"
   ]
  },
  {
   "cell_type": "code",
   "execution_count": null,
   "id": "9ae99f09",
   "metadata": {
    "scrolled": true
   },
   "outputs": [],
   "source": [
    "train_new.employmentLength.drop_duplicates()"
   ]
  },
  {
   "cell_type": "code",
   "execution_count": null,
   "id": "3da552b0",
   "metadata": {},
   "outputs": [],
   "source": [
    "# train_new['employmentLength'].apply(lambda x: x[0] if x != NaN else None)\n",
    "# train_new['employmentLength'].apply(lambda x: x[0])\n",
    "train_new.copy()"
   ]
  },
  {
   "cell_type": "code",
   "execution_count": null,
   "id": "51c2e39f",
   "metadata": {},
   "outputs": [],
   "source": []
  },
  {
   "cell_type": "code",
   "execution_count": null,
   "id": "4e585c87",
   "metadata": {},
   "outputs": [],
   "source": []
  }
 ],
 "metadata": {
  "kernelspec": {
   "display_name": "Python 3 (ipykernel)",
   "language": "python",
   "name": "python3"
  },
  "language_info": {
   "codemirror_mode": {
    "name": "ipython",
    "version": 3
   },
   "file_extension": ".py",
   "mimetype": "text/x-python",
   "name": "python",
   "nbconvert_exporter": "python",
   "pygments_lexer": "ipython3",
   "version": "3.9.7"
  },
  "toc": {
   "base_numbering": 1,
   "nav_menu": {},
   "number_sections": true,
   "sideBar": true,
   "skip_h1_title": false,
   "title_cell": "Table of Contents",
   "title_sidebar": "Contents",
   "toc_cell": false,
   "toc_position": {},
   "toc_section_display": true,
   "toc_window_display": true
  },
  "varInspector": {
   "cols": {
    "lenName": 16,
    "lenType": 16,
    "lenVar": 40
   },
   "kernels_config": {
    "python": {
     "delete_cmd_postfix": "",
     "delete_cmd_prefix": "del ",
     "library": "var_list.py",
     "varRefreshCmd": "print(var_dic_list())"
    },
    "r": {
     "delete_cmd_postfix": ") ",
     "delete_cmd_prefix": "rm(",
     "library": "var_list.r",
     "varRefreshCmd": "cat(var_dic_list()) "
    }
   },
   "position": {
    "height": "411.848px",
    "left": "1087.43px",
    "right": "20px",
    "top": "120px",
    "width": "355px"
   },
   "types_to_exclude": [
    "module",
    "function",
    "builtin_function_or_method",
    "instance",
    "_Feature"
   ],
   "window_display": false
  }
 },
 "nbformat": 4,
 "nbformat_minor": 5
}
